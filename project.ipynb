{
 "cells": [
  {
   "cell_type": "code",
   "execution_count": 1,
   "metadata": {},
   "outputs": [],
   "source": [
    "import pandas as pd \n",
    "import numpy\n",
    "import matplotlib.pyplot as plt \n",
    "from pyspark.sql import SparkSession\n",
    "import pyspark.sql.functions as F"
   ]
  },
  {
   "cell_type": "code",
   "execution_count": 2,
   "metadata": {},
   "outputs": [],
   "source": [
    "spark = SparkSession \\\n",
    "    .builder \\\n",
    "    .appName(\"Pysparkexample\") \\\n",
    "    .config(\"spark.some.config.option\", \"some-value\") \\\n",
    "    .getOrCreate()"
   ]
  },
  {
   "cell_type": "code",
   "execution_count": 6,
   "metadata": {},
   "outputs": [],
   "source": [
    "df1 = spark.read.csv('/data/tripdata/sb.csv', header='true', inferSchema = True)"
   ]
  },
  {
   "cell_type": "code",
   "execution_count": 7,
   "metadata": {},
   "outputs": [],
   "source": [
    "df2 = spark.read.csv('/data/tripdata/sc.csv', header='true', inferSchema = True)"
   ]
  },
  {
   "cell_type": "code",
   "execution_count": 8,
   "metadata": {},
   "outputs": [],
   "source": [
    "df1.createOrReplaceTempView('sb')"
   ]
  },
  {
   "cell_type": "code",
   "execution_count": 9,
   "metadata": {},
   "outputs": [],
   "source": [
    "df2.createOrReplaceTempView('sc')"
   ]
  },
  {
   "cell_type": "code",
   "execution_count": 10,
   "metadata": {},
   "outputs": [],
   "source": [
    "split_col = F.split(df1['starttime'],' ')"
   ]
  },
  {
   "cell_type": "code",
   "execution_count": 11,
   "metadata": {
    "scrolled": true
   },
   "outputs": [],
   "source": [
    "df1_date = df1.withColumn('StartDate',split_col.getItem(0))"
   ]
  },
  {
   "cell_type": "code",
   "execution_count": 12,
   "metadata": {},
   "outputs": [],
   "source": [
    "df1_new = df1_date.withColumn('StartTime',split_col.getItem(1))"
   ]
  },
  {
   "cell_type": "code",
   "execution_count": 13,
   "metadata": {},
   "outputs": [],
   "source": [
    "split_col1 = F.split(df1_new['stoptime'],' ')"
   ]
  },
  {
   "cell_type": "code",
   "execution_count": 14,
   "metadata": {},
   "outputs": [],
   "source": [
    "df1_date1 = df1_new.withColumn('StopDate',split_col1.getItem(0))"
   ]
  },
  {
   "cell_type": "code",
   "execution_count": 15,
   "metadata": {},
   "outputs": [],
   "source": [
    "df1_latest = df1_date1.withColumn('StopTime',split_col1.getItem(1))"
   ]
  },
  {
   "cell_type": "code",
   "execution_count": 33,
   "metadata": {},
   "outputs": [],
   "source": [
    "df1_latest.createOrReplaceTempView('Bike_status')"
   ]
  },
  {
   "cell_type": "code",
   "execution_count": 34,
   "metadata": {},
   "outputs": [
    {
     "name": "stdout",
     "output_type": "stream",
     "text": [
      "+------+----------+------------+--------------------+------------+--------------------+--------+\n",
      "|bikeid| StartDate|   StartTime|              source|    StopTime|         destination|duration|\n",
      "+------+----------+------------+--------------------+------------+--------------------+--------+\n",
      "|  5240|2020-01-01|00:15:45.968|Boston Public Market|00:24:47.259|Warren St at Chel...|     541|\n",
      "|  4109|2020-01-01|00:17:31.572|Cross St at Hanov...|00:27:44.063|Child St at North St|     612|\n",
      "|  2848|2020-01-01|00:22:47.738|Harvard Square at...|00:29:32.671|       191 Beacon St|     404|\n",
      "|  3490|2020-01-01|00:23:17.814|            Fan Pier|00:34:14.818|South Station - 7...|     657|\n",
      "|  2296|2020-01-01|00:38:57.431|        Davis Square|00:42:06.455|Powder House Circ...|     189|\n",
      "|  4373|2020-01-01|00:48:54.138|S Huntington Ave ...|00:59:05.749|Curtis Hall - Sou...|     611|\n",
      "|  5425|2020-01-01|00:50:36.266|Sennott Park  Bro...|00:56:29.429|Cambridge Main Li...|     353|\n",
      "|  3892|2020-01-01|00:51:25.269|Boylston St at Je...|01:08:54.253|Packard's Corner ...|    1048|\n",
      "|  4962|2020-01-01|01:02:35.139|Harvard Square at...|01:09:43.665|    175 N Harvard St|     428|\n",
      "|  4472|2020-01-01|01:05:14.428|South End Library...|01:30:20.603|Verizon Innovatio...|    1506|\n",
      "|  2952|2020-01-01|01:08:20.289|Berkshire Street ...|01:14:48.318|Binney St / Sixth St|     388|\n",
      "|  3571|2020-01-01|01:13:32.122|          Perry Park|01:24:40.499|Community Path at...|     668|\n",
      "|  2967|2020-01-01|01:18:17.095|Lafayette Square ...|01:30:23.202|Boylston St at Ex...|     726|\n",
      "|  3570|2020-01-01|01:23:53.573|Christian Science...|01:40:55.336|Lower Cambridgepo...|    1021|\n",
      "|  3082|2020-01-01| 01:26:18.27|Jackson Square T ...|01:37:12.079|NCAAA - Walnut Av...|     653|\n",
      "|  3449|2020-01-01|01:30:39.107|Tremont St at E B...|01:44:56.933|Boylston St at Je...|     857|\n",
      "|  3977|2020-01-01|01:32:08.284|South Boston Libr...| 01:50:30.47|Lewis Wharf at At...|    1102|\n",
      "|  4491|2020-01-01|01:40:00.438|Ruggles T Stop - ...|01:45:27.476|Massachusetts Ave...|     327|\n",
      "|  3419|2020-01-01|01:49:28.792|359 Broadway - Br...| 01:54:11.87|          Perry Park|     283|\n",
      "|  3972|2020-01-01|01:58:32.658|     Broadway T Stop|02:02:00.839|  W Broadway at D St|     208|\n",
      "+------+----------+------------+--------------------+------------+--------------------+--------+\n",
      "only showing top 20 rows\n",
      "\n"
     ]
    }
   ],
   "source": [
    "# QUERY 1\n",
    "\n",
    "# This query shows all the records where women passengers, who are subscribers, made trips between 12am - 7am\n",
    "\n",
    "# This attributes displayed are bikeid, start date, start time, source, stop time, destination and trip duration \n",
    "\n",
    "\n",
    "\n",
    "spark.sql('''\n",
    "\n",
    "select bikeid, StartDate, StartTime,`start station name` as source, \n",
    "StopTime, `end station name` as destination, tripduration as duration\n",
    "from Bike_status \n",
    "where StartTime in (\n",
    "select StartTime \n",
    "from (select startDate, bikeid, StartTime\n",
    "    from Bike_status \n",
    "    where StartTime > \"00:00:00.000\" and StartTime < \"07:00:00.000\"\n",
    "    and gender=2 \n",
    "    and usertype=\"Subscriber\"\n",
    "    group by StartDate, bikeid, StartTime \n",
    "    order by StartDate))\n",
    "\n",
    "\n",
    "''').show()"
   ]
  },
  {
   "cell_type": "code",
   "execution_count": 18,
   "metadata": {},
   "outputs": [
    {
     "name": "stdout",
     "output_type": "stream",
     "text": [
      "+---------------+----+\n",
      "|number_of_trips|  id|\n",
      "+---------------+----+\n",
      "|            111|4099|\n",
      "|            106|5055|\n",
      "|            105|5847|\n",
      "|            105|3716|\n",
      "|            104|6006|\n",
      "+---------------+----+\n",
      "\n"
     ]
    }
   ],
   "source": [
    "# QUERY 2\n",
    "\n",
    "# top 5 riders making maximum number of trips in a day in Bluebikes\n",
    "spark.sql('''select (count(*)) as number_of_trips, bikeid as id \n",
    "from sb \n",
    "group by bikeid \n",
    "order by number_of_trips desc \n",
    "limit 5''').show()"
   ]
  },
  {
   "cell_type": "code",
   "execution_count": 19,
   "metadata": {
    "scrolled": true
   },
   "outputs": [
    {
     "name": "stdout",
     "output_type": "stream",
     "text": [
      "+--------------------+--------------------+\n",
      "|  start station name|    end station name|\n",
      "+--------------------+--------------------+\n",
      "|Maverick Square -...|Maverick Square -...|\n",
      "|Airport T Stop - ...|Airport T Stop - ...|\n",
      "|Airport T Stop - ...|Airport T Stop - ...|\n",
      "|Airport T Stop - ...|Airport T Stop - ...|\n",
      "|Airport T Stop - ...|Airport T Stop - ...|\n",
      "|Airport T Stop - ...|Airport T Stop - ...|\n",
      "|Airport T Stop - ...|Airport T Stop - ...|\n",
      "|Airport T Stop - ...|Airport T Stop - ...|\n",
      "|Airport T Stop - ...|Airport T Stop - ...|\n",
      "|Airport T Stop - ...|Airport T Stop - ...|\n",
      "|Airport T Stop - ...|Airport T Stop - ...|\n",
      "+--------------------+--------------------+\n",
      "\n"
     ]
    }
   ],
   "source": [
    "# QUERY 3\n",
    "\n",
    "# this query shows the locations where max roundtrips were by the biker who took the maximum roundtrips\n",
    "spark.sql(\"select `start station name`, `end station name` from sb where bikeid in (select bikeid from (select * from (select count(*) as monthly_roundtrip, bikeid from(select from_unixtime(CAST(unix_timestamp(starttime)/3600 AS int)*3600) as start,bikeid from sb where ((starttime > '2020-01-01 00:00:00' and starttime < '2020-01-31 11:59:59') and `start station name` = `end station name`)group by CAST(unix_timestamp(starttime)/3600 AS int), bikeid order by bikeid asc) group by bikeid order by monthly_roundtrip desc) limit 1)) and `start station name`=`end station name`  \").show()\n",
    "\n"
   ]
  },
  {
   "cell_type": "code",
   "execution_count": 20,
   "metadata": {},
   "outputs": [
    {
     "name": "stdout",
     "output_type": "stream",
     "text": [
      "+------+\n",
      "|  Bsub|\n",
      "+------+\n",
      "|114229|\n",
      "+------+\n",
      "\n"
     ]
    }
   ],
   "source": [
    "# QUERY 4\n",
    "\n",
    "# shows the number of subscribers \n",
    "spark.sql('''select count(*) as Bsub from sb where usertype=\"Subscriber\"''').show()"
   ]
  },
  {
   "cell_type": "code",
   "execution_count": 23,
   "metadata": {},
   "outputs": [
    {
     "name": "stdout",
     "output_type": "stream",
     "text": [
      "+--------------------+---------+--------------------+--------------------+--------------------+\n",
      "|  start station name|num_trips|avg_duration_seconds|min_duration_seconds|max_duration_seconds|\n",
      "+--------------------+---------+--------------------+--------------------+--------------------+\n",
      "|Soldiers Field Pa...|      314|   895.0987261146497|                 122|                9174|\n",
      "|Lechmere Station ...|     1068|  1156.3773408239701|                 117|              417880|\n",
      "|The Eddy - New St...|        9|   319.8888888888889|                  98|                 997|\n",
      "|Cross St at Hanov...|      792|   956.2323232323232|                  66|               57474|\n",
      "|       The Lawn on D|      295|   2831.491525423729|                 157|              566439|\n",
      "|Prudential Center...|      895|  1622.7195530726258|                  74|              363225|\n",
      "|Williams St at Wa...|      111|    710.927927927928|                 116|                2640|\n",
      "|Egleston Square -...|       52|  1181.8846153846155|                 171|                3525|\n",
      "|  Mass Ave T Station|      473|   1598.154334038055|                  62|              357618|\n",
      "|Tappan St at Broo...|       68|             3811.25|                 169|              172458|\n",
      "|University of Mas...|       39|   7786.051282051282|                 330|              259989|\n",
      "|Huntington Ave at...|      321|  2671.0778816199377|                  79|              459974|\n",
      "|Union Square - Br...|      461|   946.3882863340564|                  65|                7222|\n",
      "|Harvard Ave at Br...|      449|   883.2628062360802|                 215|                2681|\n",
      "|Somerville City Hall|      401|   968.7406483790523|                  69|                8075|\n",
      "|     Sullivan Square|      137|  1020.8248175182482|                 146|                3059|\n",
      "|Commonwealth Ave ...|      426|   976.1173708920188|                 103|                4790|\n",
      "|Orient Heights T ...|       27|   3204.296296296296|                 252|                8166|\n",
      "|Gallivan Blvd at ...|       14|   4404.071428571428|                1425|                9347|\n",
      "|     Broadway T Stop|      385|   649.2077922077922|                 120|                4720|\n",
      "+--------------------+---------+--------------------+--------------------+--------------------+\n",
      "only showing top 20 rows\n",
      "\n"
     ]
    }
   ],
   "source": [
    "spark.sql('''\n",
    "select `start station name`, count(*) as num_trips, avg(tripduration\n",
    ") as avg_duration_seconds, min(tripduration\n",
    ") as min_duration_seconds, max(tripduration\n",
    ") as max_duration_seconds from sb \n",
    "group by `start station name`\n",
    "''').show()"
   ]
  },
  {
   "cell_type": "code",
   "execution_count": 53,
   "metadata": {},
   "outputs": [
    {
     "name": "stdout",
     "output_type": "stream",
     "text": [
      "+------+\n",
      "|bikeid|\n",
      "+------+\n",
      "|  6005|\n",
      "|  3168|\n",
      "|  3985|\n",
      "|  2692|\n",
      "|  4978|\n",
      "|  5538|\n",
      "|  2900|\n",
      "|  4001|\n",
      "|  2431|\n",
      "|  6128|\n",
      "|  2712|\n",
      "|  3369|\n",
      "|  4770|\n",
      "|  5240|\n",
      "|  3062|\n",
      "|  4483|\n",
      "|  4109|\n",
      "|  3326|\n",
      "|  4687|\n",
      "|  4978|\n",
      "+------+\n",
      "only showing top 20 rows\n",
      "\n"
     ]
    }
   ],
   "source": [
    "#5. Display Bikeids at different start locations.\n",
    "spark.sql('''select bikeid from Bike_status where `start station name` in (select distinct(`start station name`) from Bike_status)''').show()"
   ]
  },
  {
   "cell_type": "code",
   "execution_count": 35,
   "metadata": {},
   "outputs": [
    {
     "name": "stdout",
     "output_type": "stream",
     "text": [
      "+------+\n",
      "|bikeid|\n",
      "+------+\n",
      "|  4101|\n",
      "|  3997|\n",
      "|  3749|\n",
      "|  5803|\n",
      "|  2142|\n",
      "|  3175|\n",
      "|  5518|\n",
      "|  4935|\n",
      "|  3794|\n",
      "|  5156|\n",
      "|  2122|\n",
      "|  3918|\n",
      "|  3226|\n",
      "|  3179|\n",
      "|  4219|\n",
      "|  3698|\n",
      "|  2387|\n",
      "|  2580|\n",
      "|  3475|\n",
      "|  4929|\n",
      "+------+\n",
      "only showing top 20 rows\n",
      "\n"
     ]
    }
   ],
   "source": [
    "#6. Display bikeids with trip duration greater than the threshold.\n",
    "spark.sql('''select bikeid from Bike_status \n",
    "where tripduration > (select avg(tripduration) as duration from sb1) \n",
    "group by bikeid''').show()\n",
    "\n"
   ]
  },
  {
   "cell_type": "code",
   "execution_count": 38,
   "metadata": {},
   "outputs": [
    {
     "name": "stdout",
     "output_type": "stream",
     "text": [
      "+-----------------------------------------------------------------------------------------------------------------------------------------------------------------+--------+\n",
      "|from_unixtime(CAST((CAST((CAST(unix_timestamp(starttime, yyyy-MM-dd HH:mm:ss) AS DOUBLE) / CAST(3600 AS DOUBLE)) AS INT) * 3600) AS BIGINT), yyyy-MM-dd HH:mm:ss)|count(1)|\n",
      "+-----------------------------------------------------------------------------------------------------------------------------------------------------------------+--------+\n",
      "|                                                                                                                                              2020-01-28 08:00:00|     858|\n",
      "|                                                                                                                                              2020-01-27 08:00:00|     842|\n",
      "|                                                                                                                                              2020-01-15 08:00:00|     834|\n",
      "|                                                                                                                                              2020-01-14 08:00:00|     782|\n",
      "|                                                                                                                                              2020-01-29 08:00:00|     773|\n",
      "+-----------------------------------------------------------------------------------------------------------------------------------------------------------------+--------+\n",
      "only showing top 5 rows\n",
      "\n"
     ]
    }
   ],
   "source": [
    "#7. Display Peak hours of a day\n",
    "spark.sql('''select from_unixtime(CAST(unix_timestamp(starttime)/3600 AS int)*3600), count(*) \n",
    "from sb group by CAST(unix_timestamp(starttime)/3600 AS int) \n",
    "order by count(*) desc''').show(5)\n"
   ]
  },
  {
   "cell_type": "code",
   "execution_count": 39,
   "metadata": {},
   "outputs": [
    {
     "name": "stdout",
     "output_type": "stream",
     "text": [
      "+--------------------+---------+--------------------+--------------------+--------------------+\n",
      "|  start station name|num_trips|avg_duration_seconds|min_duration_seconds|max_duration_seconds|\n",
      "+--------------------+---------+--------------------+--------------------+--------------------+\n",
      "|Soldiers Field Pa...|      314|   895.0987261146497|                 122|                9174|\n",
      "|Lechmere Station ...|     1068|  1156.3773408239701|                 117|              417880|\n",
      "|The Eddy - New St...|        9|   319.8888888888889|                  98|                 997|\n",
      "|Cross St at Hanov...|      792|   956.2323232323232|                  66|               57474|\n",
      "|       The Lawn on D|      295|   2831.491525423729|                 157|              566439|\n",
      "|Prudential Center...|      895|  1622.7195530726258|                  74|              363225|\n",
      "|Williams St at Wa...|      111|    710.927927927928|                 116|                2640|\n",
      "|Egleston Square -...|       52|  1181.8846153846155|                 171|                3525|\n",
      "|  Mass Ave T Station|      473|   1598.154334038055|                  62|              357618|\n",
      "|Tappan St at Broo...|       68|             3811.25|                 169|              172458|\n",
      "|University of Mas...|       39|   7786.051282051282|                 330|              259989|\n",
      "|Huntington Ave at...|      321|  2671.0778816199377|                  79|              459974|\n",
      "|Union Square - Br...|      461|   946.3882863340564|                  65|                7222|\n",
      "|Harvard Ave at Br...|      449|   883.2628062360802|                 215|                2681|\n",
      "|Somerville City Hall|      401|   968.7406483790523|                  69|                8075|\n",
      "|     Sullivan Square|      137|  1020.8248175182482|                 146|                3059|\n",
      "|Commonwealth Ave ...|      426|   976.1173708920188|                 103|                4790|\n",
      "|Orient Heights T ...|       27|   3204.296296296296|                 252|                8166|\n",
      "|Gallivan Blvd at ...|       14|   4404.071428571428|                1425|                9347|\n",
      "|     Broadway T Stop|      385|   649.2077922077922|                 120|                4720|\n",
      "+--------------------+---------+--------------------+--------------------+--------------------+\n",
      "only showing top 20 rows\n",
      "\n"
     ]
    }
   ],
   "source": [
    "# 8. Display the average, Minimum and maximum trip duration per start station.\n",
    "spark.sql('''\n",
    "select `start station name`, count(*) as num_trips, avg(tripduration\n",
    ") as avg_duration_seconds, min(tripduration\n",
    ") as min_duration_seconds, max(tripduration\n",
    ") as max_duration_seconds from sb \n",
    "group by `start station name`\n",
    "''').show()\n"
   ]
  },
  {
   "cell_type": "code",
   "execution_count": 43,
   "metadata": {},
   "outputs": [
    {
     "name": "stdout",
     "output_type": "stream",
     "text": [
      "Requirement already satisfied: ipyleaflet in /opt/conda/lib/python3.7/site-packages (0.12.4)\n",
      "Requirement already satisfied: branca<0.4,>=0.3.1 in /opt/conda/lib/python3.7/site-packages (from ipyleaflet) (0.3.1)\n",
      "Requirement already satisfied: ipywidgets<8,>=7.5.0 in /opt/conda/lib/python3.7/site-packages (from ipyleaflet) (7.5.1)\n",
      "Requirement already satisfied: traittypes<3,>=0.2.1 in /opt/conda/lib/python3.7/site-packages (from ipyleaflet) (0.2.1)\n",
      "Requirement already satisfied: xarray>=0.10 in /opt/conda/lib/python3.7/site-packages (from ipyleaflet) (0.15.1)\n",
      "Requirement already satisfied: jinja2 in /opt/conda/lib/python3.7/site-packages (from branca<0.4,>=0.3.1->ipyleaflet) (2.11.2)\n",
      "Requirement already satisfied: six in /opt/conda/lib/python3.7/site-packages (from branca<0.4,>=0.3.1->ipyleaflet) (1.14.0)\n",
      "Requirement already satisfied: ipykernel>=4.5.1 in /opt/conda/lib/python3.7/site-packages (from ipywidgets<8,>=7.5.0->ipyleaflet) (5.2.0)\n",
      "Requirement already satisfied: nbformat>=4.2.0 in /opt/conda/lib/python3.7/site-packages (from ipywidgets<8,>=7.5.0->ipyleaflet) (5.0.6)\n",
      "Requirement already satisfied: ipython>=4.0.0; python_version >= \"3.3\" in /opt/conda/lib/python3.7/site-packages (from ipywidgets<8,>=7.5.0->ipyleaflet) (7.13.0)\n",
      "Requirement already satisfied: traitlets>=4.3.1 in /opt/conda/lib/python3.7/site-packages (from ipywidgets<8,>=7.5.0->ipyleaflet) (4.3.3)\n",
      "Requirement already satisfied: widgetsnbextension~=3.5.0 in /opt/conda/lib/python3.7/site-packages (from ipywidgets<8,>=7.5.0->ipyleaflet) (3.5.1)\n",
      "Requirement already satisfied: numpy>=1.15 in /opt/conda/lib/python3.7/site-packages (from xarray>=0.10->ipyleaflet) (1.18.1)\n",
      "Requirement already satisfied: setuptools>=41.2 in /opt/conda/lib/python3.7/site-packages (from xarray>=0.10->ipyleaflet) (46.1.3.post20200325)\n",
      "Requirement already satisfied: pandas>=0.25 in /opt/conda/lib/python3.7/site-packages (from xarray>=0.10->ipyleaflet) (1.0.3)\n",
      "Requirement already satisfied: MarkupSafe>=0.23 in /opt/conda/lib/python3.7/site-packages (from jinja2->branca<0.4,>=0.3.1->ipyleaflet) (1.1.1)\n",
      "Requirement already satisfied: tornado>=4.2 in /opt/conda/lib/python3.7/site-packages (from ipykernel>=4.5.1->ipywidgets<8,>=7.5.0->ipyleaflet) (6.0.4)\n",
      "Requirement already satisfied: jupyter-client in /opt/conda/lib/python3.7/site-packages (from ipykernel>=4.5.1->ipywidgets<8,>=7.5.0->ipyleaflet) (6.1.3)\n",
      "Requirement already satisfied: ipython-genutils in /opt/conda/lib/python3.7/site-packages (from nbformat>=4.2.0->ipywidgets<8,>=7.5.0->ipyleaflet) (0.2.0)\n",
      "Requirement already satisfied: jsonschema!=2.5.0,>=2.4 in /opt/conda/lib/python3.7/site-packages (from nbformat>=4.2.0->ipywidgets<8,>=7.5.0->ipyleaflet) (3.2.0)\n",
      "Requirement already satisfied: jupyter-core in /opt/conda/lib/python3.7/site-packages (from nbformat>=4.2.0->ipywidgets<8,>=7.5.0->ipyleaflet) (4.6.3)\n",
      "Requirement already satisfied: jedi>=0.10 in /opt/conda/lib/python3.7/site-packages (from ipython>=4.0.0; python_version >= \"3.3\"->ipywidgets<8,>=7.5.0->ipyleaflet) (0.17.0)\n",
      "Requirement already satisfied: pexpect; sys_platform != \"win32\" in /opt/conda/lib/python3.7/site-packages (from ipython>=4.0.0; python_version >= \"3.3\"->ipywidgets<8,>=7.5.0->ipyleaflet) (4.8.0)\n",
      "Requirement already satisfied: prompt-toolkit!=3.0.0,!=3.0.1,<3.1.0,>=2.0.0 in /opt/conda/lib/python3.7/site-packages (from ipython>=4.0.0; python_version >= \"3.3\"->ipywidgets<8,>=7.5.0->ipyleaflet) (3.0.5)\n",
      "Requirement already satisfied: decorator in /opt/conda/lib/python3.7/site-packages (from ipython>=4.0.0; python_version >= \"3.3\"->ipywidgets<8,>=7.5.0->ipyleaflet) (4.4.2)\n",
      "Requirement already satisfied: backcall in /opt/conda/lib/python3.7/site-packages (from ipython>=4.0.0; python_version >= \"3.3\"->ipywidgets<8,>=7.5.0->ipyleaflet) (0.1.0)\n",
      "Requirement already satisfied: pygments in /opt/conda/lib/python3.7/site-packages (from ipython>=4.0.0; python_version >= \"3.3\"->ipywidgets<8,>=7.5.0->ipyleaflet) (2.6.1)\n",
      "Requirement already satisfied: pickleshare in /opt/conda/lib/python3.7/site-packages (from ipython>=4.0.0; python_version >= \"3.3\"->ipywidgets<8,>=7.5.0->ipyleaflet) (0.7.5)\n",
      "Requirement already satisfied: notebook>=4.4.1 in /opt/conda/lib/python3.7/site-packages (from widgetsnbextension~=3.5.0->ipywidgets<8,>=7.5.0->ipyleaflet) (6.0.3)\n",
      "Requirement already satisfied: pytz>=2017.2 in /opt/conda/lib/python3.7/site-packages (from pandas>=0.25->xarray>=0.10->ipyleaflet) (2019.3)\n",
      "Requirement already satisfied: python-dateutil>=2.6.1 in /opt/conda/lib/python3.7/site-packages (from pandas>=0.25->xarray>=0.10->ipyleaflet) (2.8.1)\n",
      "Requirement already satisfied: pyzmq>=13 in /opt/conda/lib/python3.7/site-packages (from jupyter-client->ipykernel>=4.5.1->ipywidgets<8,>=7.5.0->ipyleaflet) (19.0.0)\n",
      "Requirement already satisfied: attrs>=17.4.0 in /opt/conda/lib/python3.7/site-packages (from jsonschema!=2.5.0,>=2.4->nbformat>=4.2.0->ipywidgets<8,>=7.5.0->ipyleaflet) (19.3.0)\n",
      "Requirement already satisfied: pyrsistent>=0.14.0 in /opt/conda/lib/python3.7/site-packages (from jsonschema!=2.5.0,>=2.4->nbformat>=4.2.0->ipywidgets<8,>=7.5.0->ipyleaflet) (0.16.0)\n",
      "Requirement already satisfied: importlib-metadata; python_version < \"3.8\" in /opt/conda/lib/python3.7/site-packages (from jsonschema!=2.5.0,>=2.4->nbformat>=4.2.0->ipywidgets<8,>=7.5.0->ipyleaflet) (1.6.0)\n",
      "Requirement already satisfied: parso>=0.7.0 in /opt/conda/lib/python3.7/site-packages (from jedi>=0.10->ipython>=4.0.0; python_version >= \"3.3\"->ipywidgets<8,>=7.5.0->ipyleaflet) (0.7.0)\n",
      "Requirement already satisfied: ptyprocess>=0.5 in /opt/conda/lib/python3.7/site-packages (from pexpect; sys_platform != \"win32\"->ipython>=4.0.0; python_version >= \"3.3\"->ipywidgets<8,>=7.5.0->ipyleaflet) (0.6.0)\n",
      "Requirement already satisfied: wcwidth in /opt/conda/lib/python3.7/site-packages (from prompt-toolkit!=3.0.0,!=3.0.1,<3.1.0,>=2.0.0->ipython>=4.0.0; python_version >= \"3.3\"->ipywidgets<8,>=7.5.0->ipyleaflet) (0.1.9)\n",
      "Requirement already satisfied: prometheus-client in /opt/conda/lib/python3.7/site-packages (from notebook>=4.4.1->widgetsnbextension~=3.5.0->ipywidgets<8,>=7.5.0->ipyleaflet) (0.7.1)\n",
      "Requirement already satisfied: nbconvert in /opt/conda/lib/python3.7/site-packages (from notebook>=4.4.1->widgetsnbextension~=3.5.0->ipywidgets<8,>=7.5.0->ipyleaflet) (5.6.1)\n",
      "Requirement already satisfied: terminado>=0.8.1 in /opt/conda/lib/python3.7/site-packages (from notebook>=4.4.1->widgetsnbextension~=3.5.0->ipywidgets<8,>=7.5.0->ipyleaflet) (0.8.3)\n",
      "Requirement already satisfied: Send2Trash in /opt/conda/lib/python3.7/site-packages (from notebook>=4.4.1->widgetsnbextension~=3.5.0->ipywidgets<8,>=7.5.0->ipyleaflet) (1.5.0)\n",
      "Requirement already satisfied: zipp>=0.5 in /opt/conda/lib/python3.7/site-packages (from importlib-metadata; python_version < \"3.8\"->jsonschema!=2.5.0,>=2.4->nbformat>=4.2.0->ipywidgets<8,>=7.5.0->ipyleaflet) (3.1.0)\n",
      "Requirement already satisfied: mistune<2,>=0.8.1 in /opt/conda/lib/python3.7/site-packages (from nbconvert->notebook>=4.4.1->widgetsnbextension~=3.5.0->ipywidgets<8,>=7.5.0->ipyleaflet) (0.8.4)\n",
      "Requirement already satisfied: pandocfilters>=1.4.1 in /opt/conda/lib/python3.7/site-packages (from nbconvert->notebook>=4.4.1->widgetsnbextension~=3.5.0->ipywidgets<8,>=7.5.0->ipyleaflet) (1.4.2)\n",
      "Requirement already satisfied: bleach in /opt/conda/lib/python3.7/site-packages (from nbconvert->notebook>=4.4.1->widgetsnbextension~=3.5.0->ipywidgets<8,>=7.5.0->ipyleaflet) (3.1.4)\n",
      "Requirement already satisfied: defusedxml in /opt/conda/lib/python3.7/site-packages (from nbconvert->notebook>=4.4.1->widgetsnbextension~=3.5.0->ipywidgets<8,>=7.5.0->ipyleaflet) (0.6.0)\n",
      "Requirement already satisfied: entrypoints>=0.2.2 in /opt/conda/lib/python3.7/site-packages (from nbconvert->notebook>=4.4.1->widgetsnbextension~=3.5.0->ipywidgets<8,>=7.5.0->ipyleaflet) (0.3)\n",
      "Requirement already satisfied: testpath in /opt/conda/lib/python3.7/site-packages (from nbconvert->notebook>=4.4.1->widgetsnbextension~=3.5.0->ipywidgets<8,>=7.5.0->ipyleaflet) (0.4.4)\n",
      "Requirement already satisfied: webencodings in /opt/conda/lib/python3.7/site-packages (from bleach->nbconvert->notebook>=4.4.1->widgetsnbextension~=3.5.0->ipywidgets<8,>=7.5.0->ipyleaflet) (0.5.1)\n",
      "Note: you may need to restart the kernel to use updated packages.\n"
     ]
    }
   ],
   "source": [
    "pip install ipyleaflet"
   ]
  },
  {
   "cell_type": "code",
   "execution_count": 47,
   "metadata": {},
   "outputs": [
    {
     "data": {
      "application/vnd.jupyter.widget-view+json": {
       "model_id": "d00d9d5b7e424e5d8d14a302d8c0b748",
       "version_major": 2,
       "version_minor": 0
      },
      "text/plain": [
       "Map(center=[42.3733121258, -71.0410200806], controls=(ZoomControl(options=['position', 'zoom_in_text', 'zoom_i…"
      ]
     },
     "metadata": {},
     "output_type": "display_data"
    }
   ],
   "source": [
    "from ipyleaflet import Map, Heatmap\n",
    "from random import uniform\n",
    "m = Map(center=(42.3733121258, -71.0410200806), zoom=13)\n",
    "\n",
    "bike_lat_lng_df = spark.sql('''select `start station latitude`, `start station longitude` from Bike_status where bikeid = 30326''')\n",
    "bike_locations = list()\n",
    "for row in bike_lat_lng_df.rdd.collect():\n",
    "    bike_locations.append((row[\"start station latitude\"], row[\"start station longitude\"], 89)) # lat, lng, intensity\n",
    "    \n",
    "heatmap = Heatmap(\n",
    "    locations=bike_locations,\n",
    "    radius=20\n",
    ")\n",
    "m.add_layer(heatmap);\n",
    "m"
   ]
  },
  {
   "cell_type": "code",
   "execution_count": null,
   "metadata": {},
   "outputs": [],
   "source": []
  },
  {
   "cell_type": "code",
   "execution_count": null,
   "metadata": {},
   "outputs": [],
   "source": []
  }
 ],
 "metadata": {
  "celltoolbar": "Slideshow",
  "kernelspec": {
   "display_name": "Python 3",
   "language": "python",
   "name": "python3"
  },
  "language_info": {
   "codemirror_mode": {
    "name": "ipython",
    "version": 3
   },
   "file_extension": ".py",
   "mimetype": "text/x-python",
   "name": "python",
   "nbconvert_exporter": "python",
   "pygments_lexer": "ipython3",
   "version": "3.7.6"
  }
 },
 "nbformat": 4,
 "nbformat_minor": 4
}
